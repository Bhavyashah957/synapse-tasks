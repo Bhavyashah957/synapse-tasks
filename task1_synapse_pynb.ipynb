{
  "nbformat": 4,
  "nbformat_minor": 0,
  "metadata": {
    "colab": {
      "provenance": [],
      "collapsed_sections": [],
      "authorship_tag": "ABX9TyOzzw2etOxWDoKnsn8F6k72",
      "include_colab_link": true
    },
    "kernelspec": {
      "name": "python3",
      "display_name": "Python 3"
    },
    "language_info": {
      "name": "python"
    }
  },
  "cells": [
    {
      "cell_type": "markdown",
      "metadata": {
        "id": "view-in-github",
        "colab_type": "text"
      },
      "source": [
        "<a href=\"https://colab.research.google.com/github/Bhavyashah957/synapse-tasks/blob/main/task1_synapse_pynb.ipynb\" target=\"_parent\"><img src=\"https://colab.research.google.com/assets/colab-badge.svg\" alt=\"Open In Colab\"/></a>"
      ]
    },
    {
      "cell_type": "markdown",
      "source": [
        "**#1**"
      ],
      "metadata": {
        "id": "Avqfg14UYdFf"
      }
    },
    {
      "cell_type": "code",
      "source": [
        "modern_family = ['CLaiRe_DunPhY', 'PHiL_dUnpHY', 'GLoRiA_PriTCheTt', 'CaMErOn_TuCKEr',\n",
        "'StELLa']\n",
        "indices =[]\n",
        "for index, item in enumerate(modern_family):\n",
        "  \n",
        "        indices.append(index)\n",
        "print(indices)\n",
        "characters=[]\n",
        "for item, item in enumerate(modern_family ):\n",
        "  characters.append(item)\n",
        "print(characters)"
      ],
      "metadata": {
        "colab": {
          "base_uri": "https://localhost:8080/"
        },
        "id": "q131Ve3v_TSO",
        "outputId": "c46d3fdd-1240-4799-fe24-89af204ff64a"
      },
      "execution_count": 48,
      "outputs": [
        {
          "output_type": "stream",
          "name": "stdout",
          "text": [
            "[0, 1, 2, 3, 4]\n",
            "['CLaiRe_DunPhY', 'PHiL_dUnpHY', 'GLoRiA_PriTCheTt', 'CaMErOn_TuCKEr', 'StELLa']\n"
          ]
        }
      ]
    },
    {
      "cell_type": "code",
      "source": [
        "characters_lower = []\n",
        "for character in characters:\n",
        "    characters_lower.append(character.lower())\n",
        "print(characters_lower) "
      ],
      "metadata": {
        "colab": {
          "base_uri": "https://localhost:8080/"
        },
        "id": "ctW1q4jGbUJH",
        "outputId": "009c6734-f29f-422a-fec7-0d57421e78e8"
      },
      "execution_count": 49,
      "outputs": [
        {
          "output_type": "stream",
          "name": "stdout",
          "text": [
            "['claire_dunphy', 'phil_dunphy', 'gloria_pritchett', 'cameron_tucker', 'stella']\n"
          ]
        }
      ]
    },
    {
      "cell_type": "code",
      "source": [
        "characters_lower= list(map(lambda x: x.replace('_', '-'), characters_lower))\n",
        "print(characters_lower)"
      ],
      "metadata": {
        "colab": {
          "base_uri": "https://localhost:8080/"
        },
        "id": "hFdOffdPcYi6",
        "outputId": "f7ed90ed-6225-416d-81f8-879126e90612"
      },
      "execution_count": 50,
      "outputs": [
        {
          "output_type": "stream",
          "name": "stdout",
          "text": [
            "['claire-dunphy', 'phil-dunphy', 'gloria-pritchett', 'cameron-tucker', 'stella']\n"
          ]
        }
      ]
    },
    {
      "cell_type": "code",
      "source": [
        "def lambda_characters(characters_lower): return len(characters_lower)\n",
        "print(lambda_characters(characters_lower))"
      ],
      "metadata": {
        "colab": {
          "base_uri": "https://localhost:8080/"
        },
        "id": "1kbJGneXCz0O",
        "outputId": "dd3a5ff1-c025-455e-8213-c5a50f423d09"
      },
      "execution_count": 51,
      "outputs": [
        {
          "output_type": "stream",
          "name": "stdout",
          "text": [
            "5\n"
          ]
        }
      ]
    },
    {
      "cell_type": "code",
      "source": [
        "temp= map(lambda_characters,characters )\n",
        "temp=list(temp)\n",
        "print(temp)"
      ],
      "metadata": {
        "colab": {
          "base_uri": "https://localhost:8080/"
        },
        "id": "OaYgtlX7SoZZ",
        "outputId": "353ea663-c917-4320-8137-f2b0e1c8a2b0"
      },
      "execution_count": 52,
      "outputs": [
        {
          "output_type": "stream",
          "name": "stdout",
          "text": [
            "[13, 11, 16, 14, 6]\n"
          ]
        }
      ]
    },
    {
      "cell_type": "code",
      "source": [
        "list3 = [sum(tup) for tup in zip(temp, indices)]\n",
        "indices=list3\n",
        "print(indices)"
      ],
      "metadata": {
        "colab": {
          "base_uri": "https://localhost:8080/"
        },
        "id": "t_f8vKVbYNnu",
        "outputId": "9c4c0f89-5e43-4cd7-fedc-d1035de287d1"
      },
      "execution_count": 53,
      "outputs": [
        {
          "output_type": "stream",
          "name": "stdout",
          "text": [
            "[13, 12, 18, 17, 10]\n"
          ]
        }
      ]
    },
    {
      "cell_type": "code",
      "source": [
        "indices.sort(reverse=True)\n",
        "print(indices)"
      ],
      "metadata": {
        "colab": {
          "base_uri": "https://localhost:8080/"
        },
        "id": "kt08wmb9YV7W",
        "outputId": "fabdb1a2-9e24-4695-d62b-db79f4f257a5"
      },
      "execution_count": 54,
      "outputs": [
        {
          "output_type": "stream",
          "name": "stdout",
          "text": [
            "[18, 17, 13, 12, 10]\n"
          ]
        }
      ]
    },
    {
      "cell_type": "code",
      "source": [
        "characters=characters_lower\n",
        "Phew_finally = dict(zip(indices, characters))\n",
        "print(Phew_finally) "
      ],
      "metadata": {
        "colab": {
          "base_uri": "https://localhost:8080/"
        },
        "id": "yzHw5OdcZQlr",
        "outputId": "8f44a30e-c102-4464-95d7-614dda2548af"
      },
      "execution_count": 55,
      "outputs": [
        {
          "output_type": "stream",
          "name": "stdout",
          "text": [
            "{18: 'claire-dunphy', 17: 'phil-dunphy', 13: 'gloria-pritchett', 12: 'cameron-tucker', 10: 'stella'}\n"
          ]
        }
      ]
    },
    {
      "cell_type": "markdown",
      "source": [
        "**2**"
      ],
      "metadata": {
        "id": "Qx6RR2HCdAlC"
      }
    },
    {
      "cell_type": "code",
      "source": [
        "creepy_doll = ['red_light', 'green_light', 'red_light', 'you_got_shot', 'green_light', 'you_got_shot',\n",
        "'you_got_shot', 'green_light', 'you_ got_shot', 'red_light', 'green_light', 'red_light', 'you_got_shot',\n",
        "'green_light','red_light', 'red_light', 'green_light', 'you_got_shot','red_light', 'you_got_shot']"
      ],
      "metadata": {
        "id": "jZiUn4fidE7R"
      },
      "execution_count": 56,
      "outputs": []
    },
    {
      "cell_type": "code",
      "source": [
        "next_game=creepy_doll[1:-4:3]\n",
        "next_game"
      ],
      "metadata": {
        "colab": {
          "base_uri": "https://localhost:8080/"
        },
        "id": "d_hYLTrMdE8_",
        "outputId": "4c22d8a7-0630-4329-dad4-3487f0c8aebd"
      },
      "execution_count": 60,
      "outputs": [
        {
          "output_type": "execute_result",
          "data": {
            "text/plain": [
              "['green_light', 'green_light', 'green_light', 'green_light', 'green_light']"
            ]
          },
          "metadata": {},
          "execution_count": 60
        }
      ]
    },
    {
      "cell_type": "markdown",
      "source": [
        "**3**"
      ],
      "metadata": {
        "id": "rR0Ou7qvd21D"
      }
    },
    {
      "cell_type": "code",
      "source": [
        "class Titanindex:\n",
        "  def __init__(titan, name, height,strength,winning_streak):\n",
        "    titan.name = name\n",
        "    titan.height=height\n",
        "    titan.strength = strength \n",
        "    titan.winning_streak =winning_streak\n",
        "  def TitanvsScout(scout):\n",
        "    print(\"the name and strength of a scout is\" )\n",
        "    input(scout.name,scout.strength)"
      ],
      "metadata": {
        "id": "ekpttf_Gd4jS"
      },
      "execution_count": 64,
      "outputs": []
    }
  ]
}